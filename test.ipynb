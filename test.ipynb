{
 "metadata": {
  "language_info": {
   "codemirror_mode": {
    "name": "ipython",
    "version": 3
   },
   "file_extension": ".py",
   "mimetype": "text/x-python",
   "name": "python",
   "nbconvert_exporter": "python",
   "pygments_lexer": "ipython3",
   "version": "3.7.10"
  },
  "orig_nbformat": 2,
  "kernelspec": {
   "name": "python3710jvsc74a57bd00eaec61809db808b96fc352df5359562fe0d217424556afdac90aa990404d63e",
   "display_name": "Python 3.7.10 64-bit ('ssms': conda)"
  }
 },
 "nbformat": 4,
 "nbformat_minor": 2,
 "cells": [
  {
   "cell_type": "code",
   "execution_count": 1,
   "metadata": {},
   "outputs": [],
   "source": [
    "import numpy as np\n",
    "import pandas as pd\n",
    "\n",
    "import config\n",
    "import dataset_generators"
   ]
  },
  {
   "cell_type": "code",
   "execution_count": 2,
   "metadata": {},
   "outputs": [],
   "source": [
    "my_data_config = config.data_generator_config['lan']['cnn']\n",
    "my_data_config['dgp_list'] = 'ddm'\n",
    "my_data_config['n_parameter_sets'] = 100\n",
    "my_data_config['n_samples'] = 10000"
   ]
  },
  {
   "cell_type": "code",
   "execution_count": 3,
   "metadata": {},
   "outputs": [],
   "source": [
    "my_model_config = config.model_config['ddm']"
   ]
  },
  {
   "cell_type": "code",
   "execution_count": 4,
   "metadata": {},
   "outputs": [
    {
     "output_type": "stream",
     "name": "stdout",
     "text": [
      "n_cpus:  6\nchecking:  data/lan_cnn/\n"
     ]
    }
   ],
   "source": [
    "my_dataset_generator = dataset_generators.data_generator(generator_config = my_data_config,\n",
    "                                                         model_config = my_model_config)"
   ]
  },
  {
   "cell_type": "code",
   "execution_count": 5,
   "metadata": {
    "tags": []
   },
   "outputs": [
    {
     "output_type": "stream",
     "name": "stdout",
     "text": [
      "simulation round:  1  of 10\n",
      "passed\n",
      "dict_keys(['rts', 'choices', 'metadata'])\n",
      "passed\n",
      "dict_keys(['rts', 'choices', 'metadata'])\n",
      "passedpassed\n",
      "\n",
      "dict_keys(['rts', 'choices', 'metadata'])dict_keys(['rts', 'choices', 'metadata'])\n",
      "\n",
      "passed\n",
      "dict_keys(['rts', 'choices', 'metadata'])\n",
      "passed\n",
      "dict_keys(['rts', 'choices', 'metadata'])\n",
      "passed\n",
      "dict_keys(['rts', 'choices', 'metadata'])\n",
      "passed\n",
      "dict_keys(['rts', 'choices', 'metadata'])\n",
      "passed\n",
      "dict_keys(['rts', 'choices', 'metadata'])\n",
      "passed\n",
      "dict_keys(['rts', 'choices', 'metadata'])\n",
      "simulation round:  2  of 10\n",
      "passed\n",
      "dict_keys(['rts', 'choices', 'metadata'])\n",
      "passed\n",
      "dict_keys(['rts', 'choices', 'metadata'])\n",
      "passed\n",
      "dict_keys(['rts', 'choices', 'metadata'])\n",
      "passed\n",
      "dict_keys(['rts', 'choices', 'metadata'])\n",
      "passed\n",
      "dict_keys(['rts', 'choices', 'metadata'])\n",
      "passed\n",
      "dict_keys(['rts', 'choices', 'metadata'])\n",
      "passed\n",
      "dict_keys(['rts', 'choices', 'metadata'])\n",
      "passed\n",
      "dict_keys(['rts', 'choices', 'metadata'])\n",
      "passed\n",
      "dict_keys(['rts', 'choices', 'metadata'])\n",
      "passed\n",
      "dict_keys(['rts', 'choices', 'metadata'])\n",
      "simulation round:  3  of 10\n",
      "passed\n",
      "passeddict_keys(['rts', 'choices', 'metadata'])passed\n",
      "\n",
      "\n",
      "dict_keys(['rts', 'choices', 'metadata'])dict_keys(['rts', 'choices', 'metadata'])\n",
      "\n",
      "passed\n",
      "dict_keys(['rts', 'choices', 'metadata'])\n",
      "passed\n",
      "dict_keys(['rts', 'choices', 'metadata'])\n",
      "passed\n",
      "dict_keys(['rts', 'choices', 'metadata'])\n",
      "passed\n",
      "dict_keys(['rts', 'choices', 'metadata'])\n",
      "passed\n",
      "dict_keys(['rts', 'choices', 'metadata'])\n",
      "passed\n",
      "dict_keys(['rts', 'choices', 'metadata'])\n",
      "passed\n",
      "dict_keys(['rts', 'choices', 'metadata'])\n",
      "simulation round:  4  of 10\n",
      "passed\n",
      "dict_keys(['rts', 'choices', 'metadata'])\n",
      "passed\n",
      "dict_keys(['rts', 'choices', 'metadata'])\n",
      "passed\n",
      "dict_keys(['rts', 'choices', 'metadata'])\n",
      "passed\n",
      "dict_keys(['rts', 'choices', 'metadata'])\n",
      "passed\n",
      "dict_keys(['rts', 'choices', 'metadata'])\n",
      "passed\n",
      "dict_keys(['rts', 'choices', 'metadata'])\n",
      "passed\n",
      "dict_keys(['rts', 'choices', 'metadata'])\n",
      "passed\n",
      "dict_keys(['rts', 'choices', 'metadata'])\n",
      "passed\n",
      "dict_keys(['rts', 'choices', 'metadata'])\n",
      "passed\n",
      "dict_keys(['rts', 'choices', 'metadata'])\n",
      "simulation round:  5  of 10\n",
      "passed\n",
      "dict_keys(['rts', 'choices', 'metadata'])\n",
      "passed\n",
      "dict_keys(['rts', 'choices', 'metadata'])\n",
      "passed\n",
      "dict_keys(['rts', 'choices', 'metadata'])\n",
      "passed\n",
      "dict_keys(['rts', 'choices', 'metadata'])\n",
      "passed\n",
      "dict_keys(['rts', 'choices', 'metadata'])\n",
      "passed\n",
      "dict_keys(['rts', 'choices', 'metadata'])\n",
      "passed\n",
      "dict_keys(['rts', 'choices', 'metadata'])\n",
      "passed\n",
      "dict_keys(['rts', 'choices', 'metadata'])\n",
      "passed\n",
      "dict_keys(['rts', 'choices', 'metadata'])\n",
      "passed\n",
      "dict_keys(['rts', 'choices', 'metadata'])\n",
      "simulation round:  6  of 10\n",
      "passed\n",
      "dict_keys(['rts', 'choices', 'metadata'])\n",
      "passed\n",
      "dict_keys(['rts', 'choices', 'metadata'])\n",
      "passed\n",
      "dict_keys(['rts', 'choices', 'metadata'])\n",
      "passed\n",
      "dict_keys(['rts', 'choices', 'metadata'])\n",
      "passed\n",
      "dict_keys(['rts', 'choices', 'metadata'])\n",
      "passed\n",
      "dict_keys(['rts', 'choices', 'metadata'])\n",
      "passed\n",
      "dict_keys(['rts', 'choices', 'metadata'])\n",
      "passed\n",
      "dict_keys(['rts', 'choices', 'metadata'])\n",
      "passed\n",
      "dict_keys(['rts', 'choices', 'metadata'])\n",
      "passed\n",
      "dict_keys(['rts', 'choices', 'metadata'])\n",
      "simulation round:  7  of 10\n",
      "passed\n",
      "dict_keys(['rts', 'choices', 'metadata'])\n",
      "passed\n",
      "dict_keys(['rts', 'choices', 'metadata'])passed\n",
      "\n",
      "dict_keys(['rts', 'choices', 'metadata'])\n",
      "passed\n",
      "dict_keys(['rts', 'choices', 'metadata'])\n",
      "passed\n",
      "dict_keys(['rts', 'choices', 'metadata'])\n",
      "passed\n",
      "dict_keys(['rts', 'choices', 'metadata'])\n",
      "passed\n",
      "dict_keys(['rts', 'choices', 'metadata'])\n",
      "passed\n",
      "dict_keys(['rts', 'choices', 'metadata'])\n",
      "passed\n",
      "dict_keys(['rts', 'choices', 'metadata'])\n",
      "passed\n",
      "dict_keys(['rts', 'choices', 'metadata'])\n",
      "simulation round:  8  of 10\n",
      "passed\n",
      "dict_keys(['rts', 'choices', 'metadata'])\n",
      "passed\n",
      "dict_keys(['rts', 'choices', 'metadata'])\n",
      "passed\n",
      "dict_keys(['rts', 'choices', 'metadata'])\n",
      "passed\n",
      "dict_keys(['rts', 'choices', 'metadata'])\n",
      "passed\n",
      "dict_keys(['rts', 'choices', 'metadata'])\n",
      "passed\n",
      "dict_keys(['rts', 'choices', 'metadata'])\n",
      "passed\n",
      "dict_keys(['rts', 'choices', 'metadata'])\n",
      "passed\n",
      "dict_keys(['rts', 'choices', 'metadata'])\n",
      "passed\n",
      "dict_keys(['rts', 'choices', 'metadata'])\n",
      "passed\n",
      "dict_keys(['rts', 'choices', 'metadata'])\n",
      "simulation round:  9  of 10\n",
      "passed\n",
      "dict_keys(['rts', 'choices', 'metadata'])\n",
      "passed\n",
      "dict_keys(['rts', 'choices', 'metadata'])\n",
      "passed\n",
      "dict_keys(['rts', 'choices', 'metadata'])\n",
      "passed\n",
      "dict_keys(['rts', 'choices', 'metadata'])\n",
      "passed\n",
      "dict_keys(['rts', 'choices', 'metadata'])\n",
      "passed\n",
      "dict_keys(['rts', 'choices', 'metadata'])\n",
      "passed\n",
      "dict_keys(['rts', 'choices', 'metadata'])\n",
      "passed\n",
      "dict_keys(['rts', 'choices', 'metadata'])\n",
      "passed\n",
      "dict_keys(['rts', 'choices', 'metadata'])\n",
      "passed\n",
      "dict_keys(['rts', 'choices', 'metadata'])\n",
      "simulation round:  10  of 10\n",
      "passed\n",
      "dict_keys(['rts', 'choices', 'metadata'])\n",
      "passed\n",
      "dict_keys(['rts', 'choices', 'metadata'])\n",
      "passed\n",
      "dict_keys(['rts', 'choices', 'metadata'])\n",
      "passed\n",
      "dict_keys(['rts', 'choices', 'metadata'])\n",
      "passed\n",
      "dict_keys(['rts', 'choices', 'metadata'])\n",
      "passed\n",
      "dict_keys(['rts', 'choices', 'metadata'])\n",
      "passed\n",
      "dict_keys(['rts', 'choices', 'metadata'])\n",
      "passed\n",
      "dict_keys(['rts', 'choices', 'metadata'])\n",
      "passed\n",
      "dict_keys(['rts', 'choices', 'metadata'])\n",
      "passed\n",
      "dict_keys(['rts', 'choices', 'metadata'])\n"
     ]
    }
   ],
   "source": [
    "x = my_dataset_generator.generate_data_training_uniform()"
   ]
  },
  {
   "cell_type": "code",
   "execution_count": null,
   "metadata": {},
   "outputs": [],
   "source": [
    "my_dataset_generator.generate_data_training"
   ]
  },
  {
   "cell_type": "code",
   "execution_count": null,
   "metadata": {},
   "outputs": [],
   "source": [
    "my_dataset_generator.model_config"
   ]
  },
  {
   "cell_type": "code",
   "execution_count": 8,
   "metadata": {},
   "outputs": [
    {
     "output_type": "execute_result",
     "data": {
      "text/plain": [
       "(10, 512, 2)"
      ]
     },
     "metadata": {},
     "execution_count": 8
    }
   ],
   "source": [
    "x['data'].shape"
   ]
  },
  {
   "cell_type": "code",
   "execution_count": 9,
   "metadata": {},
   "outputs": [
    {
     "output_type": "execute_result",
     "data": {
      "text/plain": [
       "(10, 4)"
      ]
     },
     "metadata": {},
     "execution_count": 9
    }
   ],
   "source": [
    "x['labels'].shape"
   ]
  },
  {
   "cell_type": "code",
   "execution_count": null,
   "metadata": {},
   "outputs": [],
   "source": []
  }
 ]
}